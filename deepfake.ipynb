{
 "cells": [
  {
   "cell_type": "markdown",
   "id": "8dd6a22b",
   "metadata": {},
   "source": [
    "**This is bold**\n",
    "# Heading 1 (biggest)\n",
    "## Heading 2\n",
    "### Heading 3\n",
    "# **Deepfake Detection**\n"
   ]
  },
  {
   "cell_type": "markdown",
   "id": "083432a8",
   "metadata": {},
   "source": [
    "# 🧩 Project: Deepfake Image Detection AI\n",
    "\n",
    "\n",
    "\n",
    "\n",
    "\n",
    "\n",
    "\n",
    "\n",
    "\n"
   ]
  },
  {
   "cell_type": "markdown",
   "id": "d60138f1",
   "metadata": {},
   "source": [
    "### 1. Dataset Collection "
   ]
  },
  {
   "cell_type": "markdown",
   "id": "0bd8fc6a",
   "metadata": {},
   "source": []
  }
 ],
 "metadata": {
  "kernelspec": {
   "display_name": "base",
   "language": "python",
   "name": "python3"
  },
  "language_info": {
   "codemirror_mode": {
    "name": "ipython",
    "version": 3
   },
   "file_extension": ".py",
   "mimetype": "text/x-python",
   "name": "python",
   "nbconvert_exporter": "python",
   "pygments_lexer": "ipython3",
   "version": "3.11.4"
  }
 },
 "nbformat": 4,
 "nbformat_minor": 5
}
